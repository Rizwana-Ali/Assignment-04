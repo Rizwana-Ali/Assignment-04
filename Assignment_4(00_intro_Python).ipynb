{
  "nbformat": 4,
  "nbformat_minor": 0,
  "metadata": {
    "colab": {
      "provenance": [],
      "authorship_tag": "ABX9TyNgwtbDCflBnMSSGtm0z44m",
      "include_colab_link": true
    },
    "kernelspec": {
      "name": "python3",
      "display_name": "Python 3"
    },
    "language_info": {
      "name": "python"
    }
  },
  "cells": [
    {
      "cell_type": "markdown",
      "metadata": {
        "id": "view-in-github",
        "colab_type": "text"
      },
      "source": [
        "<a href=\"https://colab.research.google.com/github/Rizwana-Ali/Assignment-04/blob/main/Assignment_4(00_intro_Python).ipynb\" target=\"_parent\"><img src=\"https://colab.research.google.com/assets/colab-badge.svg\" alt=\"Open In Colab\"/></a>"
      ]
    },
    {
      "cell_type": "markdown",
      "source": [
        "## **01_add_two_numbers**."
      ],
      "metadata": {
        "id": "iY74XGTJlV_D"
      }
    },
    {
      "cell_type": "code",
      "execution_count": 3,
      "metadata": {
        "id": "XJ7cOGLCk3s4",
        "colab": {
          "base_uri": "https://localhost:8080/"
        },
        "outputId": "c97364ae-9f8a-49f3-889a-e7c6d560e46b"
      },
      "outputs": [
        {
          "output_type": "stream",
          "name": "stdout",
          "text": [
            "In This program we are adding two numbers.\n",
            "Enter first number: 5\n",
            "Enter second number: 5\n",
            "The total sum of 5 and 5 is 10.\n"
          ]
        }
      ],
      "source": [
        "def Calculator():\n",
        "    print(\"In This program we are adding two numbers.\")\n",
        "    first_num = int(input(\"Enter first number: \"))\n",
        "    second_num = int(input(\"Enter second number: \"))\n",
        "    total  = int(first_num + second_num)\n",
        "    print(f\"The total sum of {first_num} and {second_num} is {total}.\")\n",
        "\n",
        "if __name__ == \"__main__\":\n",
        "\n",
        " Calculator()\n"
      ]
    },
    {
      "cell_type": "markdown",
      "source": [
        "# **02_agreement_bot**."
      ],
      "metadata": {
        "id": "w6HfoZos4yeR"
      }
    },
    {
      "cell_type": "code",
      "source": [
        "\n",
        "def bot():\n",
        "    print(\"Animals! :\")\n",
        "    animal = input(\"What's your favorite animal? \")\n",
        "    print(f\"My favorite animal is also {animal}!\")\n",
        "\n",
        "\n",
        "\n",
        "if __name__ == '__main__':\n",
        "    bot()"
      ],
      "metadata": {
        "colab": {
          "base_uri": "https://localhost:8080/"
        },
        "id": "wBIcKOCx3T0J",
        "outputId": "51d198de-ac9f-4f30-8a44-bbc097c5e253"
      },
      "execution_count": null,
      "outputs": [
        {
          "output_type": "stream",
          "name": "stdout",
          "text": [
            "Animals! :\n",
            "What's your favorite animal? cat\n",
            "My favorite animal is also cat!\n"
          ]
        }
      ]
    },
    {
      "cell_type": "markdown",
      "source": [
        "# **03_fahrenheit_to_celsius**"
      ],
      "metadata": {
        "id": "sboEbVINUXCd"
      }
    },
    {
      "cell_type": "code",
      "source": [
        "def temp():\n",
        "  print(\"This application for converting fahrenheit to celsius\")\n",
        "  fahrenheit_degree = float(input(\"Enter your fahrenheit degree \"))\n",
        "  celsius_degree = (fahrenheit_degree - 32) * 5.0/9.0\n",
        "  print(f\"Temprature {fahrenheit_degree} F = {celsius_degree} C\")\n",
        "\n",
        "if __name__ == \"__main__\":\n",
        " temp()\n",
        "\n",
        "\n",
        "\n",
        "\n",
        "\n",
        "\n"
      ],
      "metadata": {
        "colab": {
          "base_uri": "https://localhost:8080/"
        },
        "id": "goJ5t-TJUTub",
        "outputId": "e7497930-f28a-42eb-b4b8-f74947632f01"
      },
      "execution_count": 26,
      "outputs": [
        {
          "output_type": "stream",
          "name": "stdout",
          "text": [
            "This application for converting fahrenheit to celsius\n",
            "Enter your fahrenheit degree 76\n",
            "Temprature 76.0 F = 24.444444444444443 C\n"
          ]
        }
      ]
    },
    {
      "cell_type": "markdown",
      "source": [
        "# **04_how_old_are_they**"
      ],
      "metadata": {
        "id": "QnXzpxkwfE61"
      }
    },
    {
      "cell_type": "code",
      "source": [
        "def add_ages():\n",
        "  anthon:int = 21\n",
        "  beth:int = anthon + 6\n",
        "  chen:int = beth + 20\n",
        "  drew:int = chen + anthon\n",
        "  ethen:int = chen\n",
        "\n",
        "  print(\"Anthon is \" + str(anthon))\n",
        "  print(\"Beth is \" + str(beth))\n",
        "  print(\"Chen is \" + str(chen))\n",
        "  print(\"Drew is \" + str(drew))\n",
        "  print(\"Ethen is \" + str(ethen))\n",
        "\n",
        "if __name__ == \"__main__\":\n",
        "    add_ages()"
      ],
      "metadata": {
        "colab": {
          "base_uri": "https://localhost:8080/"
        },
        "id": "-x-Y5VqHe9b7",
        "outputId": "1b43afec-44f4-4e48-c713-558d28b93d61"
      },
      "execution_count": 28,
      "outputs": [
        {
          "output_type": "stream",
          "name": "stdout",
          "text": [
            "Anthon is 21\n",
            "Beth is 27\n",
            "Chen is 47\n",
            "Drew is 68\n",
            "Ethen is 47\n"
          ]
        }
      ]
    },
    {
      "cell_type": "markdown",
      "source": [
        "# **05_triangle_perimeter**"
      ],
      "metadata": {
        "id": "ZoQlprbfl9MQ"
      }
    },
    {
      "cell_type": "code",
      "source": [
        "def triangle():\n",
        "  print(\"This code is about perimeter of triangle sides\")\n",
        "  side1:float = float(input(\"Enter your first side no of triangle. \"))\n",
        "  side2:float = float(input(\"Enter your second side no of triangle. \"))\n",
        "  side3:float = float(input(\"Enter your third side no of triangle. \"))\n",
        "  total:float = float(side1 + side2 + side3)\n",
        "  print(f\"The perimeter of the triangle is {side1}, {side2}, and {side3} is {total}\")\n",
        "\n",
        "if __name__ == \"__main__\":\n",
        " triangle()\n",
        "\n",
        "\n"
      ],
      "metadata": {
        "colab": {
          "base_uri": "https://localhost:8080/"
        },
        "id": "Y31RKjsbl7Z1",
        "outputId": "26bf0847-5992-4ec2-d2e5-92c153fb9937"
      },
      "execution_count": 32,
      "outputs": [
        {
          "output_type": "stream",
          "name": "stdout",
          "text": [
            "This code is about perimeter of triangle sides\n",
            "Enter your first side no of triangle. 4.2\n",
            "Enter your second side no of triangle. 6\n",
            "Enter your third side no of triangle. 2\n",
            "The perimeter of the triangle is 4.2, 6.0, and 2.0 is 12.2\n"
          ]
        }
      ]
    },
    {
      "cell_type": "markdown",
      "source": [
        "## **06_square_number**."
      ],
      "metadata": {
        "id": "TRlWdmj4q-1g"
      }
    },
    {
      "cell_type": "code",
      "source": [
        "def square():\n",
        "  print(\"This code is about square of given number\")\n",
        "  num1:int = int(input(\"Enter any number and i will give you a square value. \"))\n",
        "  print(f\"The square of {num1} is {num1 ** 2}\")\n",
        "\n",
        "if __name__ == \"__main__\":\n",
        "    square()"
      ],
      "metadata": {
        "colab": {
          "base_uri": "https://localhost:8080/"
        },
        "id": "aPBODV2iq7Ll",
        "outputId": "cba7e617-46c1-4939-debc-c13f7f274c4f"
      },
      "execution_count": 38,
      "outputs": [
        {
          "output_type": "stream",
          "name": "stdout",
          "text": [
            "This code is about square of given number\n",
            "Enter any number and i will give you a square value. 3\n",
            "The square of 3 is 9\n"
          ]
        }
      ]
    }
  ]
}