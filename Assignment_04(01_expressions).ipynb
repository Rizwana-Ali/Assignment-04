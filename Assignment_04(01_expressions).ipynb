{
  "nbformat": 4,
  "nbformat_minor": 0,
  "metadata": {
    "colab": {
      "provenance": [],
      "authorship_tag": "ABX9TyPL/IkH4G7N5zx9Df4nU2Y9",
      "include_colab_link": true
    },
    "kernelspec": {
      "name": "python3",
      "display_name": "Python 3"
    },
    "language_info": {
      "name": "python"
    }
  },
  "cells": [
    {
      "cell_type": "markdown",
      "metadata": {
        "id": "view-in-github",
        "colab_type": "text"
      },
      "source": [
        "<a href=\"https://colab.research.google.com/github/Rizwana-Ali/Assignment-04/blob/main/Assignment_04(01_expressions).ipynb\" target=\"_parent\"><img src=\"https://colab.research.google.com/assets/colab-badge.svg\" alt=\"Open In Colab\"/></a>"
      ]
    },
    {
      "cell_type": "markdown",
      "source": [
        "# **01_dicesimulator.t**"
      ],
      "metadata": {
        "id": "OqVgg_JaEGtr"
      }
    },
    {
      "cell_type": "code",
      "execution_count": 3,
      "metadata": {
        "colab": {
          "base_uri": "https://localhost:8080/"
        },
        "id": "vSaQ5GSQDazh",
        "outputId": "3151a589-842d-4a22-d6e4-8b693d029814"
      },
      "outputs": [
        {
          "output_type": "stream",
          "name": "stdout",
          "text": [
            "die1 in main() starts as: 10\n",
            "Total of two dice: 6\n",
            "Total of two dice: 7\n",
            "Total of two dice: 11\n",
            "die1 in main() is: 10\n"
          ]
        }
      ],
      "source": [
        "import random\n",
        "def roll_dice():\n",
        "\n",
        "    die1: int = random.randint(1,6)\n",
        "    die2: int = random.randint(1,6)\n",
        "    total: int = die1 + die2\n",
        "    print(f'Total of two dice: {total}')\n",
        "\n",
        "def main():\n",
        "    die1: int = 10\n",
        "    print(\"die1 in main() starts as: \" + str(die1))\n",
        "    roll_dice()\n",
        "    roll_dice()\n",
        "    roll_dice()\n",
        "    print(\"die1 in main() is: \" + str(die1))\n",
        "\n",
        "\n",
        "if __name__ == '__main__':\n",
        "    main()"
      ]
    },
    {
      "cell_type": "markdown",
      "source": [],
      "metadata": {
        "id": "Rqe9mF3_Pm_m"
      }
    },
    {
      "cell_type": "markdown",
      "source": [
        "# 02_e=mc2.**md**"
      ],
      "metadata": {
        "id": "POX6SOChQFbP"
      }
    },
    {
      "cell_type": "code",
      "source": [
        "def energy():\n",
        "\n",
        "  c:float = 563967397\n",
        "  m:float = float(input(\"Enter kilos of mass: \"))\n",
        "  print(\"e = m*c^2\")\n",
        "  print(\"mass = \" + str(m) + \"kg\")\n",
        "  print(\" = \" + str(c) + \" m/s\")\n",
        "  print(\"e = \" + str(m * c ** 2)  + \" julies\")\n",
        "\n",
        "\n",
        "if __name__ == '__main__':\n",
        "    energy()"
      ],
      "metadata": {
        "colab": {
          "base_uri": "https://localhost:8080/"
        },
        "id": "pJBbBG3HNmfC",
        "outputId": "893ac83f-09a2-4752-bd00-09576b57a268"
      },
      "execution_count": 6,
      "outputs": [
        {
          "output_type": "stream",
          "name": "stdout",
          "text": [
            "Enter kilos of mass: 130\n",
            "e = m*c^2\n",
            "mass = 130.0kg\n",
            " = 563967397 m/s\n",
            "e = 4.134769923426423e+19 julies\n"
          ]
        }
      ]
    },
    {
      "cell_type": "markdown",
      "source": [
        "# **03_feet_to_inches.md**"
      ],
      "metadata": {
        "id": "xmktjLPSjDWV"
      }
    },
    {
      "cell_type": "code",
      "source": [
        "inch: int = 12\n",
        "\n",
        "def foot():\n",
        "    feet: int = int(input(\"Enter number of feet and I will convert into inches: \"))\n",
        "    print(f\"That are {inch * feet} inches in {feet} feet!\")\n",
        "\n",
        "\n",
        "if __name__ == '__main__':\n",
        "    foot()"
      ],
      "metadata": {
        "colab": {
          "base_uri": "https://localhost:8080/"
        },
        "id": "O8jB2ieOjCtL",
        "outputId": "07f66d6a-6305-4a85-8926-68a3c8313b58"
      },
      "execution_count": 8,
      "outputs": [
        {
          "output_type": "stream",
          "name": "stdout",
          "text": [
            "Enter number of feet and I will convert into inches: 45\n",
            "That are 540 inches in 45 feet!\n"
          ]
        }
      ]
    },
    {
      "cell_type": "markdown",
      "source": [
        "# **04_pythagorean_theorem**.**md**"
      ],
      "metadata": {
        "id": "nx78LlXLloJJ"
      }
    },
    {
      "cell_type": "code",
      "source": [
        "import math\n",
        "def traiangle():\n",
        "    # Get the two side lengths from the user and cast them to be numbers\n",
        "    ab: float = float(input(\"Enter the length of AB: \"))\n",
        "    ac: float = float(input(\"Enter the length of AC: \"))\n",
        "    bc: float = math.sqrt(ab**2 + ac**2)\n",
        "    print(f\"The length of BC (the hypotenuse is: {bc} )\")\n",
        "\n",
        "\n",
        "# There is no need to edit code beyond this point\n",
        "\n",
        "if __name__ == '__main__':\n",
        "    traiangle()"
      ],
      "metadata": {
        "colab": {
          "base_uri": "https://localhost:8080/"
        },
        "id": "j6CXSt-VldMO",
        "outputId": "09ecebe1-2e04-4901-ad54-f5d9e0487ec0"
      },
      "execution_count": 9,
      "outputs": [
        {
          "output_type": "stream",
          "name": "stdout",
          "text": [
            "Enter the length of AB: 4\n",
            "Enter the length of AC: 5\n",
            "The length of BC (the hypotenuse is: 6.4031242374328485 )\n"
          ]
        }
      ]
    },
    {
      "cell_type": "markdown",
      "source": [
        "# **05_remainder_division.md**"
      ],
      "metadata": {
        "id": "ZrSjigLOnQWk"
      }
    },
    {
      "cell_type": "code",
      "source": [
        "def remainder():\n",
        "    # Get the numbers we want to divide\n",
        "    num1: int = int(input(\"Please enter an integer to be divided: \"))\n",
        "    num2: int = int(input(\"Please enter an integer to divide by: \"))\n",
        "\n",
        "    quotient: int = num1 // num2  # Divide with no remainder/decimals (integer division)\n",
        "    remainder: int = num1 % num2  # Get the remainder of the division (modulo)\n",
        "\n",
        "    print(f\"The result of this division is {quotient}   with a remainder of {remainder}\")\n",
        "\n",
        "\n",
        "# There is no need to edit code beyond this point\n",
        "\n",
        "if __name__ == '__main__':\n",
        "    remainder()"
      ],
      "metadata": {
        "colab": {
          "base_uri": "https://localhost:8080/"
        },
        "id": "xuj5ATvAnPwP",
        "outputId": "ee7cb82c-13f5-4c87-f815-f4d839261708"
      },
      "execution_count": 10,
      "outputs": [
        {
          "output_type": "stream",
          "name": "stdout",
          "text": [
            "Please enter an integer to be divided: 56\n",
            "Please enter an integer to divide by: 3\n",
            "The result of this division is 18   with a remainder of 2\n"
          ]
        }
      ]
    },
    {
      "cell_type": "markdown",
      "source": [
        "# **06_rolldice**.**md**"
      ],
      "metadata": {
        "id": "0mScIWf7pY-n"
      }
    },
    {
      "cell_type": "code",
      "source": [
        "import random\n",
        "def dice():\n",
        "\n",
        "    die1: int = random.randint(1,6)\n",
        "    die2: int = random.randint(1,6)\n",
        "\n",
        "    total: int = int(die1 + die2)\n",
        "\n",
        "    print(\"First die: \" + str(die1))\n",
        "    print(\"Second die: \" + str(die2))\n",
        "    print(f\"Total of two dice:  {total}\")\n",
        "\n",
        "\n",
        "if __name__ == '__main__':\n",
        "    dice()"
      ],
      "metadata": {
        "colab": {
          "base_uri": "https://localhost:8080/"
        },
        "id": "3BhcWEC7pV1y",
        "outputId": "548e959a-1b9c-4986-cc59-c651a1509d16"
      },
      "execution_count": 14,
      "outputs": [
        {
          "output_type": "stream",
          "name": "stdout",
          "text": [
            "First die: 1\n",
            "Second die: 1\n",
            "Total of two dice:  2\n"
          ]
        }
      ]
    },
    {
      "cell_type": "markdown",
      "source": [
        "# **06_seconds_in_year**."
      ],
      "metadata": {
        "id": "V1pyS-5xsaJI"
      }
    },
    {
      "cell_type": "code",
      "source": [
        "# Useful constants to help make the math easier and cleaner!\n",
        "DAYS_PER_YEAR: int = 365\n",
        "HOURS_PER_DAY: int = 24\n",
        "MIN_PER_HOUR: int = 60\n",
        "SEC_PER_MIN: int = 60\n",
        "\n",
        "def seconds():\n",
        "    print(f\"There are {DAYS_PER_YEAR * HOURS_PER_DAY * MIN_PER_HOUR * SEC_PER_MIN} seconds in a year!\")\n",
        "\n",
        "\n",
        "# There is no need to edit code beyond this point\n",
        "\n",
        "if __name__ == '__main__':\n",
        "  seconds()"
      ],
      "metadata": {
        "colab": {
          "base_uri": "https://localhost:8080/"
        },
        "id": "wDuKjiqRsZN8",
        "outputId": "e8461f04-d087-4ef8-d368-0b5f7a12dbd4"
      },
      "execution_count": 16,
      "outputs": [
        {
          "output_type": "stream",
          "name": "stdout",
          "text": [
            "There are 31536000 seconds in a year!\n"
          ]
        }
      ]
    },
    {
      "cell_type": "markdown",
      "source": [
        "# **07_tiny_mad_lib**.**md**"
      ],
      "metadata": {
        "id": "7aKlaWBPtmqt"
      }
    },
    {
      "cell_type": "code",
      "source": [
        "def mad_lib():\n",
        "    # Get the three inputs from the user to make the adlib\n",
        "    adjective: str = input(\"Please type an adjective . \")\n",
        "    noun: str = input(\"Please type a noun and . \")\n",
        "    verb: str = input(\"Please type a verb. \")\n",
        "\n",
        "    # Join the inputs together with the sentence starter\n",
        "    print(f\"Do you {verb} your {adjective} {noun}?\")\n",
        "\n",
        "\n",
        "# There is no need to edit code beyond this point\n",
        "\n",
        "if __name__ == '__main__':\n",
        "    mad_lib()"
      ],
      "metadata": {
        "colab": {
          "base_uri": "https://localhost:8080/"
        },
        "id": "XHKqvVOotltX",
        "outputId": "f0e47813-afcf-4dc0-8e7d-fcc94d62a3f1"
      },
      "execution_count": 18,
      "outputs": [
        {
          "output_type": "stream",
          "name": "stdout",
          "text": [
            "Please type an adjective . cat\n",
            "Please type a noun and . cute\n",
            "Please type a verb. sleep\n",
            "Do you sleep your cat cute?\n"
          ]
        }
      ]
    }
  ]
}