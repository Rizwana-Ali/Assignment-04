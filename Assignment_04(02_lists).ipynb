{
  "nbformat": 4,
  "nbformat_minor": 0,
  "metadata": {
    "colab": {
      "provenance": [],
      "authorship_tag": "ABX9TyO3QlhkGiF14yFrOSCB4kVV",
      "include_colab_link": true
    },
    "kernelspec": {
      "name": "python3",
      "display_name": "Python 3"
    },
    "language_info": {
      "name": "python"
    }
  },
  "cells": [
    {
      "cell_type": "markdown",
      "metadata": {
        "id": "view-in-github",
        "colab_type": "text"
      },
      "source": [
        "<a href=\"https://colab.research.google.com/github/Rizwana-Ali/Assignment-04/blob/main/Assignment_04(02_lists).ipynb\" target=\"_parent\"><img src=\"https://colab.research.google.com/assets/colab-badge.svg\" alt=\"Open In Colab\"/></a>"
      ]
    },
    {
      "cell_type": "markdown",
      "source": [
        "# **01_add_many_number.**"
      ],
      "metadata": {
        "id": "LCRhAw6330W_"
      }
    },
    {
      "cell_type": "code",
      "execution_count": 4,
      "metadata": {
        "colab": {
          "base_uri": "https://localhost:8080/"
        },
        "id": "RIRwAqIU3Pb5",
        "outputId": "dbbf8018-3d7e-406e-aa6f-d863efa77d77"
      },
      "outputs": [
        {
          "output_type": "stream",
          "name": "stdout",
          "text": [
            "15\n"
          ]
        }
      ],
      "source": [
        "def add_number(numbers)->int:\n",
        "  num:int = 0\n",
        "  for i in numbers:\n",
        "    num += i\n",
        "  return num\n",
        "\n",
        "def main():\n",
        "  numbers:list[int] = [1,2,3,4,5]\n",
        "  sum = add_number(numbers)\n",
        "  print(sum)\n",
        "\n",
        "if __name__ == \"__main__\":\n",
        "    main()\n",
        "\n"
      ]
    },
    {
      "cell_type": "markdown",
      "source": [
        "# **02_double_list.**"
      ],
      "metadata": {
        "id": "JmLcDB8B-7oa"
      }
    },
    {
      "cell_type": "code",
      "source": [
        "def main():\n",
        "  numbers:list[int] = [1,2,3,4,5]\n",
        "  for i in range(len(numbers)):\n",
        "    index = numbers[i]\n",
        "    numbers[i] = index * 2\n",
        "  print(numbers)\n",
        "\n",
        "if __name__ == \"__main__\":\n",
        "    main()\n",
        "\n",
        "\n",
        ""
      ],
      "metadata": {
        "colab": {
          "base_uri": "https://localhost:8080/"
        },
        "id": "9Ixnv8Br-6bK",
        "outputId": "5e6d8495-aa40-4da2-a5ad-36fd60ba4f55"
      },
      "execution_count": 6,
      "outputs": [
        {
          "output_type": "stream",
          "name": "stdout",
          "text": [
            "[2, 4, 6, 8, 10]\n"
          ]
        }
      ]
    },
    {
      "cell_type": "markdown",
      "source": [
        "# **04_flowing_with_data_structures.**"
      ],
      "metadata": {
        "id": "DL1ajfD4Bul4"
      }
    },
    {
      "cell_type": "code",
      "source": [
        "def add_three_copies(lst,data):\n",
        "  for i in range(3):\n",
        "   lst.append(data)\n",
        "\n",
        "def main():\n",
        "  message = input(\"Entera message to copy. \")\n",
        "  lst = []\n",
        "  print(\"Before list: \",lst)\n",
        "  add_three_copies(lst,message)\n",
        "  print(\"After lst: \",lst)\n",
        "\n",
        "if __name__ ==\"__main__\":\n",
        "  main()\n",
        "\n",
        "\n",
        "\n",
        "\n",
        "\n",
        "\n"
      ],
      "metadata": {
        "colab": {
          "base_uri": "https://localhost:8080/"
        },
        "id": "W4-IxGzWBpim",
        "outputId": "bf574d0e-6f0c-47de-ffa7-91e88c7beadf"
      },
      "execution_count": 11,
      "outputs": [
        {
          "output_type": "stream",
          "name": "stdout",
          "text": [
            "Entera message to copy. hello karachi\n",
            "Before list:  []\n",
            "After lst:  ['hello karachi', 'hello karachi', 'hello karachi']\n"
          ]
        }
      ]
    },
    {
      "cell_type": "markdown",
      "source": [
        "# **05_get_first_element.**"
      ],
      "metadata": {
        "id": "YD5wWOLDId-X"
      }
    },
    {
      "cell_type": "code",
      "source": [
        "def get_first_element(lst):\n",
        "  print(lst[0])\n",
        "\n",
        "def get_lst():\n",
        "  lst = []\n",
        "  elem:str =input(\"Enter an element to add to the list. \")\n",
        "  while elem != \"\":\n",
        "    lst.append(elem)\n",
        "    elem = input(\"Enter an element to add to the list. \")\n",
        "  return lst\n",
        "\n",
        "def main():\n",
        "  lst = get_lst()\n",
        "  get_first_element(lst)\n",
        "\n",
        "if __name__ ==\"__main__\":\n",
        "  main()\n",
        "\n",
        "\n"
      ],
      "metadata": {
        "colab": {
          "base_uri": "https://localhost:8080/"
        },
        "id": "dwD-U_H6Iabm",
        "outputId": "6b64e29e-a01e-4121-a307-c615ad7fc832"
      },
      "execution_count": 15,
      "outputs": [
        {
          "output_type": "stream",
          "name": "stdout",
          "text": [
            "Enter an element to add to the list. a\n",
            "Enter an element to add to the list. s\n",
            "Enter an element to add to the list. d\n",
            "Enter an element to add to the list. f\n",
            "Enter an element to add to the list. r\n",
            "Enter an element to add to the list. y\n",
            "Enter an element to add to the list. \n",
            "a\n"
          ]
        }
      ]
    },
    {
      "cell_type": "markdown",
      "source": [
        "# **06_get_last_element.**"
      ],
      "metadata": {
        "id": "2ePSr9ItNlVc"
      }
    },
    {
      "cell_type": "code",
      "source": [
        "def get_last_element(lst):\n",
        "  print(lst[-1])\n",
        "\n",
        "\n",
        "def get_lst():\n",
        "  lst = []\n",
        "  elem:str =input(\"Enter an element to add to the list. \")\n",
        "  while elem != \"\":\n",
        "    lst.append(elem)\n",
        "    elem = input(\"Enter an element to add to the list. \")\n",
        "  return lst\n",
        "\n",
        "\n",
        "def main():\n",
        "  lst = get_lst()\n",
        "  get_last_element(lst)\n",
        "\n",
        "\n",
        "if __name__ == \"__main__\":\n",
        "  main()\n",
        "\n",
        "\n",
        "\n"
      ],
      "metadata": {
        "colab": {
          "base_uri": "https://localhost:8080/"
        },
        "id": "lKc83bMiNkDf",
        "outputId": "0e260546-b746-40c1-fab7-81bebf356ec6"
      },
      "execution_count": 16,
      "outputs": [
        {
          "output_type": "stream",
          "name": "stdout",
          "text": [
            "Enter an element to add to the list. r\n",
            "Enter an element to add to the list. l\n",
            "Enter an element to add to the list. t\n",
            "Enter an element to add to the list. r\n",
            "Enter an element to add to the list. o\n",
            "Enter an element to add to the list. e\n",
            "Enter an element to add to the list. y\n",
            "Enter an element to add to the list. \n",
            "y\n"
          ]
        }
      ]
    },
    {
      "cell_type": "markdown",
      "source": [
        "# **07_get_list.**"
      ],
      "metadata": {
        "id": "kHAiPv3tP6c_"
      }
    },
    {
      "cell_type": "code",
      "source": [
        "def main():\n",
        "  lst = []\n",
        "  val = input(\"Enter a value to add to the list. \")\n",
        "  while val:\n",
        "    lst.append(val)\n",
        "    val = input(\"Enter a value to add to the list. \")\n",
        "  print(\"Here's the list: \",lst)\n",
        "\n",
        "if __name__ == \"__main__\":\n",
        "  main()\n",
        "\n",
        "\n",
        "\n"
      ],
      "metadata": {
        "colab": {
          "base_uri": "https://localhost:8080/"
        },
        "id": "HPmCyxg-P3p2",
        "outputId": "2e03f721-7465-4b96-dc33-c28ac17b9bef"
      },
      "execution_count": 21,
      "outputs": [
        {
          "output_type": "stream",
          "name": "stdout",
          "text": [
            "Enter a value to add to the list. alisha\n",
            "Enter a value to add to the list. sab\n",
            "Enter a value to add to the list. zara\n",
            "Enter a value to add to the list. \n",
            "Here's the list:  ['alisha', 'sab', 'zara']\n"
          ]
        }
      ]
    },
    {
      "cell_type": "markdown",
      "source": [
        "# **08_shorten.**"
      ],
      "metadata": {
        "id": "LZzXhD7TTIVF"
      }
    },
    {
      "cell_type": "code",
      "source": [
        "MAX_LENGTH:int = 3\n",
        "def shorten(lst):\n",
        "  while len(lst) >= MAX_LENGTH:\n",
        "    last_element = lst.pop()\n",
        "    print(last_element)\n",
        "\n",
        "def get_lst():\n",
        "  lst = []\n",
        "  element = input(\"Enter an element to add to the list. \")\n",
        "  while element != \"\":\n",
        "    lst.append(element)\n",
        "    element = input(\"Enter an element to add to the list. \")\n",
        "  return lst\n",
        "\n",
        "def main():\n",
        "  lst = get_lst()\n",
        "  shorten(lst)\n",
        "\n",
        "\n",
        "if __name__ == \"__main__\":\n",
        "    main()\n",
        "\n",
        "\n",
        "\n"
      ],
      "metadata": {
        "colab": {
          "base_uri": "https://localhost:8080/"
        },
        "id": "dG5b_5GuTHiL",
        "outputId": "b9c5d2d8-06c5-40d6-e876-b3dc3106e0ac"
      },
      "execution_count": 23,
      "outputs": [
        {
          "output_type": "stream",
          "name": "stdout",
          "text": [
            "Enter an element to add to the list. a\n",
            "Enter an element to add to the list. b\n",
            "Enter an element to add to the list. f\n",
            "Enter an element to add to the list. d\n",
            "Enter an element to add to the list. s\n",
            "Enter an element to add to the list. \n",
            "s\n",
            "d\n",
            "f\n"
          ]
        }
      ]
    }
  ]
}